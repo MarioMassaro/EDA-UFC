{
 "cells": [
  {
   "cell_type": "code",
   "execution_count": 2,
   "metadata": {},
   "outputs": [],
   "source": [
    "import pandas as pd\n",
    "\n",
    "peleadores = pd.read_csv('peleadores_pulido.csv')\n",
    "peleas = pd.read_csv('peleas_pulido.csv')\n",
    "ring1 = pd.read_csv('ring1_pulido.csv')\n",
    "ring2 = pd.read_csv('peleas en ring2, gender and dif.csv')"
   ]
  },
  {
   "cell_type": "code",
   "execution_count": 6,
   "metadata": {},
   "outputs": [
    {
     "data": {
      "text/plain": [
       "Index(['#', 'R_fighter', 'B_fighter', 'date', 'location', 'country', 'Winner',\n",
       "       'weight_class', 'gender', 'no_of_rounds', 'B_losses',\n",
       "       'B_total_rounds_fought', 'B_wins', 'B_Stance', 'B_Height_cms',\n",
       "       'B_Reach_cms', 'B_Weight_lbs', 'R_losses', 'R_total_rounds_fought',\n",
       "       'R_wins', 'R_Stance', 'R_Height_cms', 'R_Reach_cms', 'R_Weight_lbs',\n",
       "       'R_age', 'B_age', 'lose_streak_dif', 'win_streak_dif', 'win_dif',\n",
       "       'loss_dif', 'height_dif', 'reach_dif', 'age_dif', 'better_rank'],\n",
       "      dtype='object')"
      ]
     },
     "execution_count": 6,
     "metadata": {},
     "output_type": "execute_result"
    }
   ],
   "source": [
    "ring2.columns\n"
   ]
  }
 ],
 "metadata": {
  "kernelspec": {
   "display_name": "Python 3",
   "language": "python",
   "name": "python3"
  },
  "language_info": {
   "codemirror_mode": {
    "name": "ipython",
    "version": 3
   },
   "file_extension": ".py",
   "mimetype": "text/x-python",
   "name": "python",
   "nbconvert_exporter": "python",
   "pygments_lexer": "ipython3",
   "version": "3.8.5"
  }
 },
 "nbformat": 4,
 "nbformat_minor": 4
}
