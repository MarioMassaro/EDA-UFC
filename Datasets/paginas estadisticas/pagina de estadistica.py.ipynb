{
 "cells": [
  {
   "cell_type": "code",
   "execution_count": 3,
   "metadata": {},
   "outputs": [
    {
     "data": {
      "application/vnd.jupyter.widget-view+json": {
       "model_id": "83b0011ffc324d6b8594cfa027ada65d",
       "version_major": 2,
       "version_minor": 0
      },
      "text/plain": [
       "HBox(children=(HTML(value='Summarize dataset'), FloatProgress(value=0.0, max=49.0), HTML(value='')))"
      ]
     },
     "metadata": {},
     "output_type": "display_data"
    },
    {
     "name": "stdout",
     "output_type": "stream",
     "text": [
      "\n"
     ]
    },
    {
     "data": {
      "application/vnd.jupyter.widget-view+json": {
       "model_id": "09f88dc1478e45259dafad00832f3a8e",
       "version_major": 2,
       "version_minor": 0
      },
      "text/plain": [
       "HBox(children=(HTML(value='Generate report structure'), FloatProgress(value=0.0, max=1.0), HTML(value='')))"
      ]
     },
     "metadata": {},
     "output_type": "display_data"
    },
    {
     "name": "stdout",
     "output_type": "stream",
     "text": [
      "\n"
     ]
    },
    {
     "data": {
      "application/vnd.jupyter.widget-view+json": {
       "model_id": "61ce35af072842b18d7360fdbcf45cef",
       "version_major": 2,
       "version_minor": 0
      },
      "text/plain": [
       "HBox(children=(HTML(value='Render HTML'), FloatProgress(value=0.0, max=1.0), HTML(value='')))"
      ]
     },
     "metadata": {},
     "output_type": "display_data"
    },
    {
     "name": "stdout",
     "output_type": "stream",
     "text": [
      "\n"
     ]
    },
    {
     "data": {
      "application/vnd.jupyter.widget-view+json": {
       "model_id": "7426527d8f3b4647a4ca45686f65d86d",
       "version_major": 2,
       "version_minor": 0
      },
      "text/plain": [
       "HBox(children=(HTML(value='Export report to file'), FloatProgress(value=0.0, max=1.0), HTML(value='')))"
      ]
     },
     "metadata": {},
     "output_type": "display_data"
    },
    {
     "name": "stdout",
     "output_type": "stream",
     "text": [
      "\n"
     ]
    }
   ],
   "source": [
    "import pandas as pd\n",
    "from pandas_profiling import ProfileReport\n",
    "\n",
    "# Cargar tus datos\n",
    "\n",
    "ufc = pd.read_csv(\"Mujeres.csv\")\n",
    "\n",
    "# Crea el reporte\n",
    "\n",
    "reporte = ProfileReport(ufc, title = \"UFC\")\n",
    "reporte.to_file(\"mujeres.html\")"
   ]
  },
  {
   "cell_type": "code",
   "execution_count": 3,
   "metadata": {
    "collapsed": true,
    "jupyter": {
     "outputs_hidden": true
    }
   },
   "outputs": [
    {
     "name": "stdout",
     "output_type": "stream",
     "text": [
      "Collecting pandas_profiling\n",
      "  Downloading pandas_profiling-2.11.0-py2.py3-none-any.whl (243 kB)\n",
      "Requirement already satisfied: ipywidgets>=7.5.1 in c:\\users\\usuario\\anaconda3\\lib\\site-packages (from pandas_profiling) (7.5.1)\n",
      "Collecting confuse>=1.0.0\n",
      "  Downloading confuse-1.4.0-py2.py3-none-any.whl (21 kB)\n",
      "Collecting visions[type_image_path]==0.6.0\n",
      "  Downloading visions-0.6.0-py3-none-any.whl (75 kB)\n",
      "Requirement already satisfied: matplotlib>=3.2.0 in c:\\users\\usuario\\anaconda3\\lib\\site-packages (from pandas_profiling) (3.3.2)\n",
      "Requirement already satisfied: missingno>=0.4.2 in c:\\users\\usuario\\anaconda3\\lib\\site-packages (from pandas_profiling) (0.4.2)\n",
      "Collecting tangled-up-in-unicode>=0.0.6\n",
      "  Downloading tangled_up_in_unicode-0.0.6-py3-none-any.whl (3.1 MB)\n",
      "Requirement already satisfied: jinja2>=2.11.1 in c:\\users\\usuario\\anaconda3\\lib\\site-packages (from pandas_profiling) (2.11.2)\n",
      "Requirement already satisfied: tqdm>=4.48.2 in c:\\users\\usuario\\anaconda3\\lib\\site-packages (from pandas_profiling) (4.50.2)\n",
      "Requirement already satisfied: requests>=2.24.0 in c:\\users\\usuario\\anaconda3\\lib\\site-packages (from pandas_profiling) (2.24.0)\n",
      "Requirement already satisfied: seaborn>=0.10.1 in c:\\users\\usuario\\anaconda3\\lib\\site-packages (from pandas_profiling) (0.11.0)\n",
      "Requirement already satisfied: pandas!=1.0.0,!=1.0.1,!=1.0.2,!=1.1.0,>=0.25.3 in c:\\users\\usuario\\anaconda3\\lib\\site-packages (from pandas_profiling) (1.1.3)\n",
      "Requirement already satisfied: scipy>=1.4.1 in c:\\users\\usuario\\anaconda3\\lib\\site-packages (from pandas_profiling) (1.5.2)\n",
      "Collecting phik>=0.10.0\n",
      "  Downloading phik-0.11.1.tar.gz (596 kB)\n",
      "Collecting htmlmin>=0.1.12\n",
      "  Downloading htmlmin-0.1.12.tar.gz (19 kB)\n",
      "Requirement already satisfied: numpy>=1.16.0 in c:\\users\\usuario\\anaconda3\\lib\\site-packages (from pandas_profiling) (1.19.2)\n",
      "Requirement already satisfied: attrs>=19.3.0 in c:\\users\\usuario\\anaconda3\\lib\\site-packages (from pandas_profiling) (20.3.0)\n",
      "Requirement already satisfied: joblib in c:\\users\\usuario\\anaconda3\\lib\\site-packages (from pandas_profiling) (0.17.0)\n",
      "Requirement already satisfied: widgetsnbextension~=3.5.0 in c:\\users\\usuario\\anaconda3\\lib\\site-packages (from ipywidgets>=7.5.1->pandas_profiling) (3.5.1)\n",
      "Requirement already satisfied: nbformat>=4.2.0 in c:\\users\\usuario\\anaconda3\\lib\\site-packages (from ipywidgets>=7.5.1->pandas_profiling) (5.0.8)\n",
      "Requirement already satisfied: ipykernel>=4.5.1 in c:\\users\\usuario\\anaconda3\\lib\\site-packages (from ipywidgets>=7.5.1->pandas_profiling) (5.3.4)\n",
      "Requirement already satisfied: ipython>=4.0.0; python_version >= \"3.3\" in c:\\users\\usuario\\anaconda3\\lib\\site-packages (from ipywidgets>=7.5.1->pandas_profiling) (7.19.0)\n",
      "Requirement already satisfied: traitlets>=4.3.1 in c:\\users\\usuario\\anaconda3\\lib\\site-packages (from ipywidgets>=7.5.1->pandas_profiling) (5.0.5)\n",
      "Requirement already satisfied: pyyaml in c:\\users\\usuario\\anaconda3\\lib\\site-packages (from confuse>=1.0.0->pandas_profiling) (5.3.1)\n",
      "Requirement already satisfied: networkx>=2.4 in c:\\users\\usuario\\anaconda3\\lib\\site-packages (from visions[type_image_path]==0.6.0->pandas_profiling) (2.5)\n",
      "Requirement already satisfied: Pillow; extra == \"type_image_path\" in c:\\users\\usuario\\anaconda3\\lib\\site-packages (from visions[type_image_path]==0.6.0->pandas_profiling) (8.0.1)\n",
      "Collecting imagehash; extra == \"type_image_path\"\n",
      "  Downloading ImageHash-4.2.0-py2.py3-none-any.whl (295 kB)\n",
      "Requirement already satisfied: cycler>=0.10 in c:\\users\\usuario\\anaconda3\\lib\\site-packages (from matplotlib>=3.2.0->pandas_profiling) (0.10.0)\n",
      "Requirement already satisfied: python-dateutil>=2.1 in c:\\users\\usuario\\anaconda3\\lib\\site-packages (from matplotlib>=3.2.0->pandas_profiling) (2.8.1)\n",
      "Requirement already satisfied: pyparsing!=2.0.4,!=2.1.2,!=2.1.6,>=2.0.3 in c:\\users\\usuario\\anaconda3\\lib\\site-packages (from matplotlib>=3.2.0->pandas_profiling) (2.4.7)\n",
      "Requirement already satisfied: certifi>=2020.06.20 in c:\\users\\usuario\\anaconda3\\lib\\site-packages (from matplotlib>=3.2.0->pandas_profiling) (2020.6.20)\n",
      "Requirement already satisfied: kiwisolver>=1.0.1 in c:\\users\\usuario\\anaconda3\\lib\\site-packages (from matplotlib>=3.2.0->pandas_profiling) (1.3.0)\n",
      "Requirement already satisfied: MarkupSafe>=0.23 in c:\\users\\usuario\\anaconda3\\lib\\site-packages (from jinja2>=2.11.1->pandas_profiling) (1.1.1)\n",
      "Requirement already satisfied: urllib3!=1.25.0,!=1.25.1,<1.26,>=1.21.1 in c:\\users\\usuario\\anaconda3\\lib\\site-packages (from requests>=2.24.0->pandas_profiling) (1.25.11)\n",
      "Requirement already satisfied: idna<3,>=2.5 in c:\\users\\usuario\\anaconda3\\lib\\site-packages (from requests>=2.24.0->pandas_profiling) (2.10)\n",
      "Requirement already satisfied: chardet<4,>=3.0.2 in c:\\users\\usuario\\anaconda3\\lib\\site-packages (from requests>=2.24.0->pandas_profiling) (3.0.4)\n",
      "Requirement already satisfied: pytz>=2017.2 in c:\\users\\usuario\\anaconda3\\lib\\site-packages (from pandas!=1.0.0,!=1.0.1,!=1.0.2,!=1.1.0,>=0.25.3->pandas_profiling) (2020.1)\n",
      "Requirement already satisfied: notebook>=4.4.1 in c:\\users\\usuario\\anaconda3\\lib\\site-packages (from widgetsnbextension~=3.5.0->ipywidgets>=7.5.1->pandas_profiling) (6.1.4)\n",
      "Requirement already satisfied: jsonschema!=2.5.0,>=2.4 in c:\\users\\usuario\\anaconda3\\lib\\site-packages (from nbformat>=4.2.0->ipywidgets>=7.5.1->pandas_profiling) (3.2.0)\n",
      "Requirement already satisfied: jupyter-core in c:\\users\\usuario\\anaconda3\\lib\\site-packages (from nbformat>=4.2.0->ipywidgets>=7.5.1->pandas_profiling) (4.6.3)\n",
      "Requirement already satisfied: ipython-genutils in c:\\users\\usuario\\anaconda3\\lib\\site-packages (from nbformat>=4.2.0->ipywidgets>=7.5.1->pandas_profiling) (0.2.0)\n",
      "Requirement already satisfied: jupyter-client in c:\\users\\usuario\\anaconda3\\lib\\site-packages (from ipykernel>=4.5.1->ipywidgets>=7.5.1->pandas_profiling) (6.1.7)\n",
      "Requirement already satisfied: tornado>=4.2 in c:\\users\\usuario\\anaconda3\\lib\\site-packages (from ipykernel>=4.5.1->ipywidgets>=7.5.1->pandas_profiling) (6.0.4)\n",
      "Requirement already satisfied: pygments in c:\\users\\usuario\\anaconda3\\lib\\site-packages (from ipython>=4.0.0; python_version >= \"3.3\"->ipywidgets>=7.5.1->pandas_profiling) (2.7.2)\n",
      "Requirement already satisfied: prompt-toolkit!=3.0.0,!=3.0.1,<3.1.0,>=2.0.0 in c:\\users\\usuario\\anaconda3\\lib\\site-packages (from ipython>=4.0.0; python_version >= \"3.3\"->ipywidgets>=7.5.1->pandas_profiling) (3.0.8)\n",
      "Requirement already satisfied: backcall in c:\\users\\usuario\\anaconda3\\lib\\site-packages (from ipython>=4.0.0; python_version >= \"3.3\"->ipywidgets>=7.5.1->pandas_profiling) (0.2.0)\n",
      "Requirement already satisfied: setuptools>=18.5 in c:\\users\\usuario\\anaconda3\\lib\\site-packages (from ipython>=4.0.0; python_version >= \"3.3\"->ipywidgets>=7.5.1->pandas_profiling) (50.3.1.post20201107)\n",
      "Requirement already satisfied: colorama; sys_platform == \"win32\" in c:\\users\\usuario\\anaconda3\\lib\\site-packages (from ipython>=4.0.0; python_version >= \"3.3\"->ipywidgets>=7.5.1->pandas_profiling) (0.4.4)\n",
      "Requirement already satisfied: decorator in c:\\users\\usuario\\anaconda3\\lib\\site-packages (from ipython>=4.0.0; python_version >= \"3.3\"->ipywidgets>=7.5.1->pandas_profiling) (4.4.2)\n",
      "Requirement already satisfied: pickleshare in c:\\users\\usuario\\anaconda3\\lib\\site-packages (from ipython>=4.0.0; python_version >= \"3.3\"->ipywidgets>=7.5.1->pandas_profiling) (0.7.5)\n",
      "Requirement already satisfied: jedi>=0.10 in c:\\users\\usuario\\anaconda3\\lib\\site-packages (from ipython>=4.0.0; python_version >= \"3.3\"->ipywidgets>=7.5.1->pandas_profiling) (0.17.1)\n",
      "Requirement already satisfied: six in c:\\users\\usuario\\anaconda3\\lib\\site-packages (from imagehash; extra == \"type_image_path\"->visions[type_image_path]==0.6.0->pandas_profiling) (1.15.0)\n",
      "Requirement already satisfied: PyWavelets in c:\\users\\usuario\\anaconda3\\lib\\site-packages (from imagehash; extra == \"type_image_path\"->visions[type_image_path]==0.6.0->pandas_profiling) (1.1.1)\n",
      "Requirement already satisfied: Send2Trash in c:\\users\\usuario\\anaconda3\\lib\\site-packages (from notebook>=4.4.1->widgetsnbextension~=3.5.0->ipywidgets>=7.5.1->pandas_profiling) (1.5.0)\n",
      "Requirement already satisfied: nbconvert in c:\\users\\usuario\\anaconda3\\lib\\site-packages (from notebook>=4.4.1->widgetsnbextension~=3.5.0->ipywidgets>=7.5.1->pandas_profiling) (6.0.7)\n",
      "Requirement already satisfied: prometheus-client in c:\\users\\usuario\\anaconda3\\lib\\site-packages (from notebook>=4.4.1->widgetsnbextension~=3.5.0->ipywidgets>=7.5.1->pandas_profiling) (0.8.0)\n",
      "Requirement already satisfied: pyzmq>=17 in c:\\users\\usuario\\anaconda3\\lib\\site-packages (from notebook>=4.4.1->widgetsnbextension~=3.5.0->ipywidgets>=7.5.1->pandas_profiling) (19.0.2)\n",
      "Requirement already satisfied: argon2-cffi in c:\\users\\usuario\\anaconda3\\lib\\site-packages (from notebook>=4.4.1->widgetsnbextension~=3.5.0->ipywidgets>=7.5.1->pandas_profiling) (20.1.0)\n",
      "Requirement already satisfied: terminado>=0.8.3 in c:\\users\\usuario\\anaconda3\\lib\\site-packages (from notebook>=4.4.1->widgetsnbextension~=3.5.0->ipywidgets>=7.5.1->pandas_profiling) (0.9.1)\n",
      "Requirement already satisfied: pyrsistent>=0.14.0 in c:\\users\\usuario\\anaconda3\\lib\\site-packages (from jsonschema!=2.5.0,>=2.4->nbformat>=4.2.0->ipywidgets>=7.5.1->pandas_profiling) (0.17.3)\n",
      "Requirement already satisfied: pywin32>=1.0; sys_platform == \"win32\" in c:\\users\\usuario\\anaconda3\\lib\\site-packages (from jupyter-core->nbformat>=4.2.0->ipywidgets>=7.5.1->pandas_profiling) (227)\n",
      "Requirement already satisfied: wcwidth in c:\\users\\usuario\\anaconda3\\lib\\site-packages (from prompt-toolkit!=3.0.0,!=3.0.1,<3.1.0,>=2.0.0->ipython>=4.0.0; python_version >= \"3.3\"->ipywidgets>=7.5.1->pandas_profiling) (0.2.5)\n",
      "Requirement already satisfied: parso<0.8.0,>=0.7.0 in c:\\users\\usuario\\anaconda3\\lib\\site-packages (from jedi>=0.10->ipython>=4.0.0; python_version >= \"3.3\"->ipywidgets>=7.5.1->pandas_profiling) (0.7.0)\n",
      "Requirement already satisfied: entrypoints>=0.2.2 in c:\\users\\usuario\\anaconda3\\lib\\site-packages (from nbconvert->notebook>=4.4.1->widgetsnbextension~=3.5.0->ipywidgets>=7.5.1->pandas_profiling) (0.3)\n",
      "Requirement already satisfied: bleach in c:\\users\\usuario\\anaconda3\\lib\\site-packages (from nbconvert->notebook>=4.4.1->widgetsnbextension~=3.5.0->ipywidgets>=7.5.1->pandas_profiling) (3.2.1)\n",
      "Requirement already satisfied: nbclient<0.6.0,>=0.5.0 in c:\\users\\usuario\\anaconda3\\lib\\site-packages (from nbconvert->notebook>=4.4.1->widgetsnbextension~=3.5.0->ipywidgets>=7.5.1->pandas_profiling) (0.5.1)\n",
      "Requirement already satisfied: jupyterlab-pygments in c:\\users\\usuario\\anaconda3\\lib\\site-packages (from nbconvert->notebook>=4.4.1->widgetsnbextension~=3.5.0->ipywidgets>=7.5.1->pandas_profiling) (0.1.2)\n",
      "Requirement already satisfied: pandocfilters>=1.4.1 in c:\\users\\usuario\\anaconda3\\lib\\site-packages (from nbconvert->notebook>=4.4.1->widgetsnbextension~=3.5.0->ipywidgets>=7.5.1->pandas_profiling) (1.4.3)\n",
      "Requirement already satisfied: testpath in c:\\users\\usuario\\anaconda3\\lib\\site-packages (from nbconvert->notebook>=4.4.1->widgetsnbextension~=3.5.0->ipywidgets>=7.5.1->pandas_profiling) (0.4.4)\n",
      "Requirement already satisfied: defusedxml in c:\\users\\usuario\\anaconda3\\lib\\site-packages (from nbconvert->notebook>=4.4.1->widgetsnbextension~=3.5.0->ipywidgets>=7.5.1->pandas_profiling) (0.6.0)\n",
      "Requirement already satisfied: mistune<2,>=0.8.1 in c:\\users\\usuario\\anaconda3\\lib\\site-packages (from nbconvert->notebook>=4.4.1->widgetsnbextension~=3.5.0->ipywidgets>=7.5.1->pandas_profiling) (0.8.4)\n",
      "Requirement already satisfied: cffi>=1.0.0 in c:\\users\\usuario\\anaconda3\\lib\\site-packages (from argon2-cffi->notebook>=4.4.1->widgetsnbextension~=3.5.0->ipywidgets>=7.5.1->pandas_profiling) (1.14.3)\n",
      "Requirement already satisfied: pywinpty>=0.5 in c:\\users\\usuario\\anaconda3\\lib\\site-packages (from terminado>=0.8.3->notebook>=4.4.1->widgetsnbextension~=3.5.0->ipywidgets>=7.5.1->pandas_profiling) (0.5.7)\n",
      "Requirement already satisfied: packaging in c:\\users\\usuario\\anaconda3\\lib\\site-packages (from bleach->nbconvert->notebook>=4.4.1->widgetsnbextension~=3.5.0->ipywidgets>=7.5.1->pandas_profiling) (20.4)\n",
      "Requirement already satisfied: webencodings in c:\\users\\usuario\\anaconda3\\lib\\site-packages (from bleach->nbconvert->notebook>=4.4.1->widgetsnbextension~=3.5.0->ipywidgets>=7.5.1->pandas_profiling) (0.5.1)\n",
      "Requirement already satisfied: nest-asyncio in c:\\users\\usuario\\anaconda3\\lib\\site-packages (from nbclient<0.6.0,>=0.5.0->nbconvert->notebook>=4.4.1->widgetsnbextension~=3.5.0->ipywidgets>=7.5.1->pandas_profiling) (1.4.2)\n",
      "Requirement already satisfied: async-generator in c:\\users\\usuario\\anaconda3\\lib\\site-packages (from nbclient<0.6.0,>=0.5.0->nbconvert->notebook>=4.4.1->widgetsnbextension~=3.5.0->ipywidgets>=7.5.1->pandas_profiling) (1.10)\n",
      "Requirement already satisfied: pycparser in c:\\users\\usuario\\anaconda3\\lib\\site-packages (from cffi>=1.0.0->argon2-cffi->notebook>=4.4.1->widgetsnbextension~=3.5.0->ipywidgets>=7.5.1->pandas_profiling) (2.20)\n",
      "Building wheels for collected packages: phik, htmlmin\n",
      "  Building wheel for phik (setup.py): started\n",
      "  Building wheel for phik (setup.py): finished with status 'done'\n",
      "  Created wheel for phik: filename=phik-0.11.1-py3-none-any.whl size=599830 sha256=eea892e87bfabd38e7f899b10c16766476c85dbf65ae858c6439deb74a2bcca4\n",
      "  Stored in directory: c:\\users\\usuario\\appdata\\local\\pip\\cache\\wheels\\aa\\a6\\c3\\9bec1a2a836b4ce1b76a129a7305927a76347636d656441111\n",
      "  Building wheel for htmlmin (setup.py): started\n",
      "  Building wheel for htmlmin (setup.py): finished with status 'done'\n",
      "  Created wheel for htmlmin: filename=htmlmin-0.1.12-py3-none-any.whl size=27091 sha256=2d8ef3e7c47ee6907e5ab49589f93279fc4353ddb2d08a386356adc75b9fe44d\n",
      "  Stored in directory: c:\\users\\usuario\\appdata\\local\\pip\\cache\\wheels\\23\\14\\6e\\4be5bfeeb027f4939a01764b48edd5996acf574b0913fe5243\n",
      "Successfully built phik htmlmin\n",
      "Installing collected packages: confuse, tangled-up-in-unicode, imagehash, visions, phik, htmlmin, pandas-profiling\n",
      "Successfully installed confuse-1.4.0 htmlmin-0.1.12 imagehash-4.2.0 pandas-profiling-2.11.0 phik-0.11.1 tangled-up-in-unicode-0.0.6 visions-0.6.0\n",
      "Requirement already satisfied: pandas_profiling in c:\\users\\usuario\\anaconda3\\lib\\site-packages (2.11.0)\n",
      "Requirement already satisfied: tqdm>=4.48.2 in c:\\users\\usuario\\anaconda3\\lib\\site-packages (from pandas_profiling) (4.50.2)\n",
      "Requirement already satisfied: numpy>=1.16.0 in c:\\users\\usuario\\anaconda3\\lib\\site-packages (from pandas_profiling) (1.19.2)\n",
      "Requirement already satisfied: visions[type_image_path]==0.6.0 in c:\\users\\usuario\\anaconda3\\lib\\site-packages (from pandas_profiling) (0.6.0)\n",
      "Requirement already satisfied: missingno>=0.4.2 in c:\\users\\usuario\\anaconda3\\lib\\site-packages (from pandas_profiling) (0.4.2)\n",
      "Requirement already satisfied: scipy>=1.4.1 in c:\\users\\usuario\\anaconda3\\lib\\site-packages (from pandas_profiling) (1.5.2)\n",
      "Requirement already satisfied: tangled-up-in-unicode>=0.0.6 in c:\\users\\usuario\\anaconda3\\lib\\site-packages (from pandas_profiling) (0.0.6)\n",
      "Requirement already satisfied: confuse>=1.0.0 in c:\\users\\usuario\\anaconda3\\lib\\site-packages (from pandas_profiling) (1.4.0)\n",
      "Requirement already satisfied: attrs>=19.3.0 in c:\\users\\usuario\\anaconda3\\lib\\site-packages (from pandas_profiling) (20.3.0)\n",
      "Requirement already satisfied: ipywidgets>=7.5.1 in c:\\users\\usuario\\anaconda3\\lib\\site-packages (from pandas_profiling) (7.5.1)\n",
      "Requirement already satisfied: seaborn>=0.10.1 in c:\\users\\usuario\\anaconda3\\lib\\site-packages (from pandas_profiling) (0.11.0)\n",
      "Requirement already satisfied: jinja2>=2.11.1 in c:\\users\\usuario\\anaconda3\\lib\\site-packages (from pandas_profiling) (2.11.2)\n",
      "Requirement already satisfied: phik>=0.10.0 in c:\\users\\usuario\\anaconda3\\lib\\site-packages (from pandas_profiling) (0.11.1)\n",
      "Requirement already satisfied: htmlmin>=0.1.12 in c:\\users\\usuario\\anaconda3\\lib\\site-packages (from pandas_profiling) (0.1.12)\n",
      "Requirement already satisfied: pandas!=1.0.0,!=1.0.1,!=1.0.2,!=1.1.0,>=0.25.3 in c:\\users\\usuario\\anaconda3\\lib\\site-packages (from pandas_profiling) (1.1.3)\n",
      "Requirement already satisfied: requests>=2.24.0 in c:\\users\\usuario\\anaconda3\\lib\\site-packages (from pandas_profiling) (2.24.0)\n",
      "Requirement already satisfied: matplotlib>=3.2.0 in c:\\users\\usuario\\anaconda3\\lib\\site-packages (from pandas_profiling) (3.3.2)\n",
      "Requirement already satisfied: joblib in c:\\users\\usuario\\anaconda3\\lib\\site-packages (from pandas_profiling) (0.17.0)\n",
      "Requirement already satisfied: networkx>=2.4 in c:\\users\\usuario\\anaconda3\\lib\\site-packages (from visions[type_image_path]==0.6.0->pandas_profiling) (2.5)\n",
      "Requirement already satisfied: imagehash; extra == \"type_image_path\" in c:\\users\\usuario\\anaconda3\\lib\\site-packages (from visions[type_image_path]==0.6.0->pandas_profiling) (4.2.0)\n",
      "Requirement already satisfied: Pillow; extra == \"type_image_path\" in c:\\users\\usuario\\anaconda3\\lib\\site-packages (from visions[type_image_path]==0.6.0->pandas_profiling) (8.0.1)\n",
      "Requirement already satisfied: pyyaml in c:\\users\\usuario\\anaconda3\\lib\\site-packages (from confuse>=1.0.0->pandas_profiling) (5.3.1)\n",
      "Requirement already satisfied: ipykernel>=4.5.1 in c:\\users\\usuario\\anaconda3\\lib\\site-packages (from ipywidgets>=7.5.1->pandas_profiling) (5.3.4)\n",
      "Requirement already satisfied: nbformat>=4.2.0 in c:\\users\\usuario\\anaconda3\\lib\\site-packages (from ipywidgets>=7.5.1->pandas_profiling) (5.0.8)\n",
      "Requirement already satisfied: traitlets>=4.3.1 in c:\\users\\usuario\\anaconda3\\lib\\site-packages (from ipywidgets>=7.5.1->pandas_profiling) (5.0.5)\n",
      "Requirement already satisfied: widgetsnbextension~=3.5.0 in c:\\users\\usuario\\anaconda3\\lib\\site-packages (from ipywidgets>=7.5.1->pandas_profiling) (3.5.1)\n",
      "Requirement already satisfied: ipython>=4.0.0; python_version >= \"3.3\" in c:\\users\\usuario\\anaconda3\\lib\\site-packages (from ipywidgets>=7.5.1->pandas_profiling) (7.19.0)\n",
      "Requirement already satisfied: MarkupSafe>=0.23 in c:\\users\\usuario\\anaconda3\\lib\\site-packages (from jinja2>=2.11.1->pandas_profiling) (1.1.1)\n",
      "Requirement already satisfied: pytz>=2017.2 in c:\\users\\usuario\\anaconda3\\lib\\site-packages (from pandas!=1.0.0,!=1.0.1,!=1.0.2,!=1.1.0,>=0.25.3->pandas_profiling) (2020.1)\n",
      "Requirement already satisfied: python-dateutil>=2.7.3 in c:\\users\\usuario\\anaconda3\\lib\\site-packages (from pandas!=1.0.0,!=1.0.1,!=1.0.2,!=1.1.0,>=0.25.3->pandas_profiling) (2.8.1)\n",
      "Requirement already satisfied: chardet<4,>=3.0.2 in c:\\users\\usuario\\anaconda3\\lib\\site-packages (from requests>=2.24.0->pandas_profiling) (3.0.4)\n",
      "Requirement already satisfied: certifi>=2017.4.17 in c:\\users\\usuario\\anaconda3\\lib\\site-packages (from requests>=2.24.0->pandas_profiling) (2020.6.20)\n",
      "Requirement already satisfied: idna<3,>=2.5 in c:\\users\\usuario\\anaconda3\\lib\\site-packages (from requests>=2.24.0->pandas_profiling) (2.10)\n",
      "Requirement already satisfied: urllib3!=1.25.0,!=1.25.1,<1.26,>=1.21.1 in c:\\users\\usuario\\anaconda3\\lib\\site-packages (from requests>=2.24.0->pandas_profiling) (1.25.11)\n",
      "Requirement already satisfied: pyparsing!=2.0.4,!=2.1.2,!=2.1.6,>=2.0.3 in c:\\users\\usuario\\anaconda3\\lib\\site-packages (from matplotlib>=3.2.0->pandas_profiling) (2.4.7)\n",
      "Requirement already satisfied: kiwisolver>=1.0.1 in c:\\users\\usuario\\anaconda3\\lib\\site-packages (from matplotlib>=3.2.0->pandas_profiling) (1.3.0)\n",
      "Requirement already satisfied: cycler>=0.10 in c:\\users\\usuario\\anaconda3\\lib\\site-packages (from matplotlib>=3.2.0->pandas_profiling) (0.10.0)\n",
      "Requirement already satisfied: decorator>=4.3.0 in c:\\users\\usuario\\anaconda3\\lib\\site-packages (from networkx>=2.4->visions[type_image_path]==0.6.0->pandas_profiling) (4.4.2)\n",
      "Requirement already satisfied: PyWavelets in c:\\users\\usuario\\anaconda3\\lib\\site-packages (from imagehash; extra == \"type_image_path\"->visions[type_image_path]==0.6.0->pandas_profiling) (1.1.1)\n",
      "Requirement already satisfied: six in c:\\users\\usuario\\anaconda3\\lib\\site-packages (from imagehash; extra == \"type_image_path\"->visions[type_image_path]==0.6.0->pandas_profiling) (1.15.0)\n",
      "Requirement already satisfied: jupyter-client in c:\\users\\usuario\\anaconda3\\lib\\site-packages (from ipykernel>=4.5.1->ipywidgets>=7.5.1->pandas_profiling) (6.1.7)\n",
      "Requirement already satisfied: tornado>=4.2 in c:\\users\\usuario\\anaconda3\\lib\\site-packages (from ipykernel>=4.5.1->ipywidgets>=7.5.1->pandas_profiling) (6.0.4)\n",
      "Requirement already satisfied: jsonschema!=2.5.0,>=2.4 in c:\\users\\usuario\\anaconda3\\lib\\site-packages (from nbformat>=4.2.0->ipywidgets>=7.5.1->pandas_profiling) (3.2.0)\n",
      "Requirement already satisfied: ipython-genutils in c:\\users\\usuario\\anaconda3\\lib\\site-packages (from nbformat>=4.2.0->ipywidgets>=7.5.1->pandas_profiling) (0.2.0)\n",
      "Requirement already satisfied: jupyter-core in c:\\users\\usuario\\anaconda3\\lib\\site-packages (from nbformat>=4.2.0->ipywidgets>=7.5.1->pandas_profiling) (4.6.3)\n",
      "Requirement already satisfied: notebook>=4.4.1 in c:\\users\\usuario\\anaconda3\\lib\\site-packages (from widgetsnbextension~=3.5.0->ipywidgets>=7.5.1->pandas_profiling) (6.1.4)\n",
      "Requirement already satisfied: pygments in c:\\users\\usuario\\anaconda3\\lib\\site-packages (from ipython>=4.0.0; python_version >= \"3.3\"->ipywidgets>=7.5.1->pandas_profiling) (2.7.2)\n",
      "Requirement already satisfied: pickleshare in c:\\users\\usuario\\anaconda3\\lib\\site-packages (from ipython>=4.0.0; python_version >= \"3.3\"->ipywidgets>=7.5.1->pandas_profiling) (0.7.5)\n",
      "Requirement already satisfied: prompt-toolkit!=3.0.0,!=3.0.1,<3.1.0,>=2.0.0 in c:\\users\\usuario\\anaconda3\\lib\\site-packages (from ipython>=4.0.0; python_version >= \"3.3\"->ipywidgets>=7.5.1->pandas_profiling) (3.0.8)\n",
      "Requirement already satisfied: colorama; sys_platform == \"win32\" in c:\\users\\usuario\\anaconda3\\lib\\site-packages (from ipython>=4.0.0; python_version >= \"3.3\"->ipywidgets>=7.5.1->pandas_profiling) (0.4.4)\n",
      "Requirement already satisfied: backcall in c:\\users\\usuario\\anaconda3\\lib\\site-packages (from ipython>=4.0.0; python_version >= \"3.3\"->ipywidgets>=7.5.1->pandas_profiling) (0.2.0)\n",
      "Requirement already satisfied: setuptools>=18.5 in c:\\users\\usuario\\anaconda3\\lib\\site-packages (from ipython>=4.0.0; python_version >= \"3.3\"->ipywidgets>=7.5.1->pandas_profiling) (50.3.1.post20201107)\n",
      "Requirement already satisfied: jedi>=0.10 in c:\\users\\usuario\\anaconda3\\lib\\site-packages (from ipython>=4.0.0; python_version >= \"3.3\"->ipywidgets>=7.5.1->pandas_profiling) (0.17.1)\n",
      "Requirement already satisfied: pyzmq>=13 in c:\\users\\usuario\\anaconda3\\lib\\site-packages (from jupyter-client->ipykernel>=4.5.1->ipywidgets>=7.5.1->pandas_profiling) (19.0.2)\n",
      "Requirement already satisfied: pyrsistent>=0.14.0 in c:\\users\\usuario\\anaconda3\\lib\\site-packages (from jsonschema!=2.5.0,>=2.4->nbformat>=4.2.0->ipywidgets>=7.5.1->pandas_profiling) (0.17.3)\n",
      "Requirement already satisfied: pywin32>=1.0; sys_platform == \"win32\" in c:\\users\\usuario\\anaconda3\\lib\\site-packages (from jupyter-core->nbformat>=4.2.0->ipywidgets>=7.5.1->pandas_profiling) (227)\n",
      "Requirement already satisfied: argon2-cffi in c:\\users\\usuario\\anaconda3\\lib\\site-packages (from notebook>=4.4.1->widgetsnbextension~=3.5.0->ipywidgets>=7.5.1->pandas_profiling) (20.1.0)\n",
      "Requirement already satisfied: nbconvert in c:\\users\\usuario\\anaconda3\\lib\\site-packages (from notebook>=4.4.1->widgetsnbextension~=3.5.0->ipywidgets>=7.5.1->pandas_profiling) (6.0.7)\n",
      "Requirement already satisfied: prometheus-client in c:\\users\\usuario\\anaconda3\\lib\\site-packages (from notebook>=4.4.1->widgetsnbextension~=3.5.0->ipywidgets>=7.5.1->pandas_profiling) (0.8.0)\n",
      "Requirement already satisfied: Send2Trash in c:\\users\\usuario\\anaconda3\\lib\\site-packages (from notebook>=4.4.1->widgetsnbextension~=3.5.0->ipywidgets>=7.5.1->pandas_profiling) (1.5.0)\n",
      "Requirement already satisfied: terminado>=0.8.3 in c:\\users\\usuario\\anaconda3\\lib\\site-packages (from notebook>=4.4.1->widgetsnbextension~=3.5.0->ipywidgets>=7.5.1->pandas_profiling) (0.9.1)\n",
      "Requirement already satisfied: wcwidth in c:\\users\\usuario\\anaconda3\\lib\\site-packages (from prompt-toolkit!=3.0.0,!=3.0.1,<3.1.0,>=2.0.0->ipython>=4.0.0; python_version >= \"3.3\"->ipywidgets>=7.5.1->pandas_profiling) (0.2.5)\n",
      "Requirement already satisfied: parso<0.8.0,>=0.7.0 in c:\\users\\usuario\\anaconda3\\lib\\site-packages (from jedi>=0.10->ipython>=4.0.0; python_version >= \"3.3\"->ipywidgets>=7.5.1->pandas_profiling) (0.7.0)\n",
      "Requirement already satisfied: cffi>=1.0.0 in c:\\users\\usuario\\anaconda3\\lib\\site-packages (from argon2-cffi->notebook>=4.4.1->widgetsnbextension~=3.5.0->ipywidgets>=7.5.1->pandas_profiling) (1.14.3)\n",
      "Requirement already satisfied: jupyterlab-pygments in c:\\users\\usuario\\anaconda3\\lib\\site-packages (from nbconvert->notebook>=4.4.1->widgetsnbextension~=3.5.0->ipywidgets>=7.5.1->pandas_profiling) (0.1.2)\n",
      "Requirement already satisfied: mistune<2,>=0.8.1 in c:\\users\\usuario\\anaconda3\\lib\\site-packages (from nbconvert->notebook>=4.4.1->widgetsnbextension~=3.5.0->ipywidgets>=7.5.1->pandas_profiling) (0.8.4)\n",
      "Requirement already satisfied: bleach in c:\\users\\usuario\\anaconda3\\lib\\site-packages (from nbconvert->notebook>=4.4.1->widgetsnbextension~=3.5.0->ipywidgets>=7.5.1->pandas_profiling) (3.2.1)\n",
      "Requirement already satisfied: testpath in c:\\users\\usuario\\anaconda3\\lib\\site-packages (from nbconvert->notebook>=4.4.1->widgetsnbextension~=3.5.0->ipywidgets>=7.5.1->pandas_profiling) (0.4.4)\n",
      "Requirement already satisfied: defusedxml in c:\\users\\usuario\\anaconda3\\lib\\site-packages (from nbconvert->notebook>=4.4.1->widgetsnbextension~=3.5.0->ipywidgets>=7.5.1->pandas_profiling) (0.6.0)\n",
      "Requirement already satisfied: pandocfilters>=1.4.1 in c:\\users\\usuario\\anaconda3\\lib\\site-packages (from nbconvert->notebook>=4.4.1->widgetsnbextension~=3.5.0->ipywidgets>=7.5.1->pandas_profiling) (1.4.3)\n",
      "Requirement already satisfied: entrypoints>=0.2.2 in c:\\users\\usuario\\anaconda3\\lib\\site-packages (from nbconvert->notebook>=4.4.1->widgetsnbextension~=3.5.0->ipywidgets>=7.5.1->pandas_profiling) (0.3)\n",
      "Requirement already satisfied: nbclient<0.6.0,>=0.5.0 in c:\\users\\usuario\\anaconda3\\lib\\site-packages (from nbconvert->notebook>=4.4.1->widgetsnbextension~=3.5.0->ipywidgets>=7.5.1->pandas_profiling) (0.5.1)\n",
      "Requirement already satisfied: pywinpty>=0.5 in c:\\users\\usuario\\anaconda3\\lib\\site-packages (from terminado>=0.8.3->notebook>=4.4.1->widgetsnbextension~=3.5.0->ipywidgets>=7.5.1->pandas_profiling) (0.5.7)\n",
      "Requirement already satisfied: pycparser in c:\\users\\usuario\\anaconda3\\lib\\site-packages (from cffi>=1.0.0->argon2-cffi->notebook>=4.4.1->widgetsnbextension~=3.5.0->ipywidgets>=7.5.1->pandas_profiling) (2.20)\n",
      "Requirement already satisfied: webencodings in c:\\users\\usuario\\anaconda3\\lib\\site-packages (from bleach->nbconvert->notebook>=4.4.1->widgetsnbextension~=3.5.0->ipywidgets>=7.5.1->pandas_profiling) (0.5.1)\n",
      "Requirement already satisfied: packaging in c:\\users\\usuario\\anaconda3\\lib\\site-packages (from bleach->nbconvert->notebook>=4.4.1->widgetsnbextension~=3.5.0->ipywidgets>=7.5.1->pandas_profiling) (20.4)\n",
      "Requirement already satisfied: nest-asyncio in c:\\users\\usuario\\anaconda3\\lib\\site-packages (from nbclient<0.6.0,>=0.5.0->nbconvert->notebook>=4.4.1->widgetsnbextension~=3.5.0->ipywidgets>=7.5.1->pandas_profiling) (1.4.2)\n",
      "Requirement already satisfied: async-generator in c:\\users\\usuario\\anaconda3\\lib\\site-packages (from nbclient<0.6.0,>=0.5.0->nbconvert->notebook>=4.4.1->widgetsnbextension~=3.5.0->ipywidgets>=7.5.1->pandas_profiling) (1.10)\n"
     ]
    }
   ],
   "source": [
    "!pip install pandas_profiling"
   ]
  },
  {
   "cell_type": "code",
   "execution_count": null,
   "metadata": {},
   "outputs": [],
   "source": [
    "import pandas as pd\n",
    "from pandas_profiling import ProfileReport\n",
    "\n",
    "# Cargar tus datos\n",
    "\n",
    "ufc = pd.read_csv(\"Hombres.csv\")\n",
    "\n",
    "# Crea el reporte\n",
    "\n",
    "reporte = ProfileReport(ufc, title = \"UFC\")\n",
    "reporte.to_file(\"hombres.html\")"
   ]
  }
 ],
 "metadata": {
  "kernelspec": {
   "display_name": "Python 3",
   "language": "python",
   "name": "python3"
  },
  "language_info": {
   "codemirror_mode": {
    "name": "ipython",
    "version": 3
   },
   "file_extension": ".py",
   "mimetype": "text/x-python",
   "name": "python",
   "nbconvert_exporter": "python",
   "pygments_lexer": "ipython3",
   "version": "3.8.5"
  }
 },
 "nbformat": 4,
 "nbformat_minor": 4
}
