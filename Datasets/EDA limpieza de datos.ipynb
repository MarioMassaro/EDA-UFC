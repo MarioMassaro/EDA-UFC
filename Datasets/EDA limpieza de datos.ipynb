{
 "cells": [
  {
   "cell_type": "code",
   "execution_count": 1,
   "metadata": {},
   "outputs": [
    {
     "name": "stderr",
     "output_type": "stream",
     "text": [
      "C:\\Users\\Usuario\\anaconda3\\lib\\site-packages\\IPython\\core\\interactiveshell.py:3146: DtypeWarning: Columns (79,80) have mixed types.Specify dtype option on import or set low_memory=False.\n",
      "  has_raised = await self.run_ast_nodes(code_ast.body, cell_name,\n"
     ]
    }
   ],
   "source": [
    "import pandas as pd\n",
    "import matplotlib.pyplot as plt\n",
    "import seaborn as sns\n",
    "\n",
    "ufc_fighters = pd.read_csv('data sets utilizados/data sets originales/ALL UFC FIGHTERS 2_23_2016 SHERDOG.COM - Sheet1.csv')\n",
    "ufc_fights = pd.read_csv('data sets utilizados/data sets originales/ALL UFC FIGHTS 2_23_2016 SHERDOG.COM - Sheet1.csv')\n",
    "data = pd.read_csv('data sets utilizados/data sets originales/data.csv')\n",
    "ufc_master = pd.read_csv('data sets utilizados/data sets originales/ufc-master.csv')"
   ]
  },
  {
   "cell_type": "code",
   "execution_count": 2,
   "metadata": {},
   "outputs": [],
   "source": [
    "# --------------------------------- se crearon los data sets a medio terminar ----------------------------------------------------------------"
   ]
  },
  {
   "cell_type": "code",
   "execution_count": 48,
   "metadata": {},
   "outputs": [],
   "source": [
    "ufc_fighters.to_csv(\"peleadores\")"
   ]
  },
  {
   "cell_type": "code",
   "execution_count": 49,
   "metadata": {},
   "outputs": [],
   "source": [
    "ufc_fights.to_csv(\"peleas\")\n",
    "\n",
    "# to_drop_ufc_fights = ufc_fights[['pageurl', 'eid', 'mid','f1pageurl', 'f2pageurl','f1fid', 'f2fid']]#, 'mid','f1pageurl', 'f2pageurl','f1fid', 'f2fid']\n",
    "# ufc_fights.drop(to_drop_ufc_fights, inplace=True, axis=1)"
   ]
  },
  {
   "cell_type": "code",
   "execution_count": 50,
   "metadata": {},
   "outputs": [],
   "source": [
    "data.to_csv(\"peleas en ring, datos de los luchadores\")\n",
    "\n",
    "# to_drop_data1 = data[[\"B_avg_BODY_att\",\"title_bout\",\"B_avg_BODY_landed\",\"B_avg_CLINCH_att\",\t\"B_avg_CLINCH_landed\",\"B_avg_DISTANCE_att\",\"B_avg_DISTANCE_landed\",\"B_avg_GROUND_att\",\"B_avg_GROUND_landed\",\"B_avg_HEAD_att\",\"B_avg_HEAD_landed\",\"B_avg_KD\",\"B_avg_LEG_att\",\"B_avg_LEG_landed\",\"B_avg_PASS\",\"B_avg_REV\",\"B_avg_SIG_STR_att\",\"B_avg_SIG_STR_landed\",\"B_avg_SIG_STR_pct\",\"B_avg_SUB_ATT\",\"B_avg_TD_att\",\"B_avg_TD_landed\",\"B_avg_TD_pct\",\"B_avg_TOTAL_STR_att\",\"B_avg_TOTAL_STR_landed\",\"B_avg_opp_BODY_att\",\t\"B_avg_opp_BODY_landed\",\t\"B_avg_opp_CLINCH_att\",\t\"B_avg_opp_CLINCH_landed\",\t\"B_avg_opp_DISTANCE_att\",\t\"B_avg_opp_DISTANCE_landed\",\t\"B_avg_opp_GROUND_att\",\t\"B_avg_opp_GROUND_landed\",\t\"B_avg_opp_HEAD_att\",\t\"B_avg_opp_HEAD_landed\",\"B_avg_opp_KD\",\t\"B_avg_opp_LEG_att\",\"B_avg_opp_LEG_landed\"\t,\"B_avg_opp_PASS\"\t,\"B_avg_opp_REV\"\t,\"B_avg_opp_SIG_STR_att\"\t,\"B_avg_opp_SIG_STR_landed\"\t,\"B_avg_opp_SIG_STR_pct\"\t,\"B_avg_opp_SUB_ATT\"\t,\"B_avg_opp_TD_att\"\t,\"B_avg_opp_TD_landed\"\t,\"B_avg_opp_TD_pct\"\t,\"B_avg_opp_TOTAL_STR_att\",\t\"B_avg_opp_TOTAL_STR_landed\",\"R_avg_BODY_att\",\t\"R_avg_BODY_landed\",\t\"R_avg_CLINCH_att\",\t\"R_avg_CLINCH_landed\",\t\"R_avg_DISTANCE_att\",\t\"R_avg_DISTANCE_landed\",\t\"R_avg_GROUND_att\",\t\"R_avg_GROUND_landed\",\t\"R_avg_HEAD_att\",\t\"R_avg_HEAD_landed\",\t\"R_avg_LEG_att\"\t,\"R_avg_LEG_landed\",\t\"R_avg_PASS\",\t\"R_avg_SIG_STR_landed\",\t\"R_avg_SIG_STR_pct\",\t\"R_avg_SUB_ATT\",\t\"R_avg_TD_att\",\t\"R_avg_TD_landed\",\t\"R_avg_TD_pct\",\"R_avg_REV\",\t\"R_avg_SIG_STR_att\",\t\"R_avg_TOTAL_STR_att\",\t\"R_avg_TOTAL_STR_landed\", \"R_avg_opp_BODY_att\",\"R_avg_opp_BODY_landed\",\"R_avg_opp_CLINCH_att\",\"R_avg_opp_CLINCH_landed\",\"R_avg_opp_DISTANCE_att\",\"R_avg_opp_DISTANCE_landed\",\"R_avg_opp_GROUND_att\",\"R_avg_opp_GROUND_landed\",\"R_avg_opp_HEAD_att\",\"R_avg_opp_HEAD_landed\",\"R_avg_opp_KD\",\"R_avg_opp_LEG_att\",\"R_avg_opp_LEG_landed\",\"R_avg_opp_PASS\",\"R_avg_opp_REV\",\"R_avg_opp_SIG_STR_att\",\"R_avg_opp_SIG_STR_landed\",\"R_avg_opp_SIG_STR_pct\",\"R_avg_opp_SUB_ATT\",\"R_avg_opp_TD_att\",\"R_avg_opp_TD_landed\",\"R_avg_opp_TD_pct\",\"R_avg_opp_TOTAL_STR_att\",\"R_avg_opp_TOTAL_STR_landed\",'B_current_lose_streak','B_current_win_streak', 'B_draw', 'B_longest_win_streak','B_total_time_fought(seconds)','B_total_title_bouts', 'B_win_by_Decision_Majority','B_win_by_Decision_Split', 'B_win_by_Decision_Unanimous','B_win_by_KO/TKO', 'B_win_by_Submission','B_win_by_TKO_Doctor_Stoppage','R_current_lose_streak','R_current_win_streak', 'R_draw', 'R_avg_KD', 'R_longest_win_streak','R_total_time_fought(seconds)','R_total_title_bouts', 'R_win_by_Decision_Majority','R_win_by_Decision_Split', 'R_win_by_Decision_Unanimous','R_win_by_KO/TKO', 'R_win_by_Submission','R_win_by_TKO_Doctor_Stoppage']] \n",
    "# data.drop(to_drop_data1, inplace=True, axis=1)"
   ]
  },
  {
   "cell_type": "code",
   "execution_count": 20,
   "metadata": {
    "jupyter": {
     "source_hidden": true
    }
   },
   "outputs": [],
   "source": [
    "to_drop_ufc_master = ufc_master[['R_ev','B_ev','B_draw','B_avg_SIG_STR_landed',\n",
    " 'B_avg_SIG_STR_pct',\n",
    " 'B_avg_SUB_ATT',\n",
    " 'B_avg_TD_landed',\n",
    " 'B_avg_TD_pct', 'B_win_by_Decision_Majority',\n",
    " 'B_win_by_Decision_Split',\n",
    " 'B_win_by_Decision_Unanimous',\n",
    " 'B_win_by_KO/TKO',\n",
    " 'B_win_by_Submission',\n",
    " 'B_win_by_TKO_Doctor_Stoppage','R_avg_SIG_STR_landed',\n",
    " 'R_avg_SIG_STR_pct',\n",
    " 'R_avg_SUB_ATT',\n",
    " 'R_avg_TD_landed',\n",
    " 'R_avg_TD_pct','R_win_by_Decision_Majority',\n",
    " 'R_win_by_Decision_Split',\n",
    " 'R_win_by_Decision_Unanimous',\n",
    " 'R_win_by_KO/TKO',\n",
    " 'R_win_by_Submission',\n",
    " 'R_win_by_TKO_Doctor_Stoppage','total_round_dif',\n",
    " 'total_title_bout_dif',\n",
    " 'ko_dif',\n",
    " 'sub_dif','sig_str_dif',\n",
    " 'avg_sub_att_dif',\n",
    " 'avg_td_dif',\n",
    " 'empty_arena',\n",
    " 'constant_1',\n",
    " 'B_match_weightclass_rank',\n",
    " 'R_match_weightclass_rank',\n",
    " \"R_Women's Flyweight_rank\",\n",
    " \"R_Women's Featherweight_rank\",\n",
    " \"R_Women's Strawweight_rank\",\n",
    " \"R_Women's Bantamweight_rank\",\n",
    " 'R_Heavyweight_rank',\n",
    " 'R_Light Heavyweight_rank',\n",
    " 'R_Middleweight_rank',\n",
    " 'R_Welterweight_rank',\n",
    " 'R_Lightweight_rank',\n",
    " 'R_Featherweight_rank',\n",
    " 'R_Bantamweight_rank',\n",
    " 'R_Flyweight_rank',\n",
    " 'R_Pound-for-Pound_rank',\n",
    "  \"B_Women's Flyweight_rank\",\n",
    " \"B_Women's Featherweight_rank\",\n",
    " \"B_Women's Strawweight_rank\",\n",
    " \"B_Women's Bantamweight_rank\",\n",
    " 'B_Heavyweight_rank',\n",
    " 'B_Light Heavyweight_rank',\n",
    " 'B_Middleweight_rank',\n",
    " 'B_Welterweight_rank',\n",
    " 'B_Lightweight_rank',\n",
    " 'B_Featherweight_rank',\n",
    " 'B_Bantamweight_rank',\n",
    " 'B_Flyweight_rank',\n",
    " 'B_Pound-for-Pound_rank','finish',\n",
    " 'finish_details',\n",
    " 'finish_round',\n",
    " 'finish_round_time',\n",
    " 'total_fight_time_secs',\n",
    " 'R_kd_bout',\n",
    " 'B_kd_bout',\n",
    " 'R_sig_str_landed_bout',\n",
    " 'B_sig_str_landed_bout',\n",
    " 'R_sig_str_attempted_bout',\n",
    " 'B_sig_str_attempted_bout',\n",
    " 'R_sig_str_pct_bout',\n",
    " 'B_sig_str_pct_bout',\n",
    " 'R_tot_str_landed_bout',\n",
    " 'B_tot_str_landed_bout',\n",
    " 'R_tot_str_attempted_bout',\n",
    " 'B_tot_str_attempted_bout',\n",
    " 'R_td_landed_bout',\n",
    " 'B_td_landed_bout',\n",
    " 'R_td_attempted_bout',\n",
    " 'B_td_attempted_bout',\n",
    " 'R_td_pct_bout',\n",
    " 'B_td_pct_bout',\n",
    " 'R_sub_attempts_bout',\n",
    " 'B_sub_attempts_bout',\n",
    " 'R_pass_bout',\n",
    " 'B_pass_bout',\n",
    " 'R_rev_bout',\n",
    " 'B_rev_bout']]\n",
    "\n",
    "ufc_master.drop(to_drop_ufc_master, inplace=True, axis=1)"
   ]
  },
  {
   "cell_type": "code",
   "execution_count": 55,
   "metadata": {},
   "outputs": [],
   "source": [
    "ufc_master.to_csv(\"peleas en ring2, gender and dif\")\n",
    "\n",
    "# a=ufc_master[[,'R_odds', 'B_odds','title_bout','B_current_lose_streak', 'B_current_win_streak','B_longest_win_streak','B_total_title_bouts','R_current_lose_streak','R_current_win_streak', 'R_draw', 'R_longest_win_streak','R_total_title_bouts','longest_win_streak_dif']]\n",
    "\n",
    "# ufc_master.drop(a, inplace=True, axis=1)\n",
    "\n",
    "#unico dataset con gender y mujeres"
   ]
  }
 ],
 "metadata": {
  "kernelspec": {
   "display_name": "Python 3",
   "language": "python",
   "name": "python3"
  },
  "language_info": {
   "codemirror_mode": {
    "name": "ipython",
    "version": 3
   },
   "file_extension": ".py",
   "mimetype": "text/x-python",
   "name": "python",
   "nbconvert_exporter": "python",
   "pygments_lexer": "ipython3",
   "version": "3.8.5"
  }
 },
 "nbformat": 4,
 "nbformat_minor": 4
}
